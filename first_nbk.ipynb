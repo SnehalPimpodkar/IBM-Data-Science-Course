{
    "cells": [
        {
            "cell_type": "markdown",
            "metadata": {
                "collapsed": true
            },
            "source": "# My Jupyter Notebook on IBM Watson Studio"
        },
        {
            "cell_type": "markdown",
            "metadata": {},
            "source": "**Snehal**<br />\nData Scientist"
        },
        {
            "cell_type": "markdown",
            "metadata": {},
            "source": "*I am interested in data science because I want to work in a field that requires creativity and lots of experimenting*"
        },
        {
            "cell_type": "markdown",
            "metadata": {},
            "source": "### The following code performs addition of two numbers"
        },
        {
            "cell_type": "code",
            "execution_count": 3,
            "metadata": {},
            "outputs": [
                {
                    "name": "stdout",
                    "output_type": "stream",
                    "text": "Enter first number: 3\nEnter second number: 2\nThe sum of 3 and 2 is 5.0\n"
                }
            ],
            "source": "num1 = input('Enter first number: ')\nnum2 = input('Enter second number: ')\nsum = float(num1) + float(num2)\nprint('The sum of {0} and {1} is {2}'.format(num1, num2, sum))"
        },
        {
            "cell_type": "markdown",
            "metadata": {},
            "source": "<https://www.google.com>\n*   This is the first line\n*   This second line\n\n    > This is a blockquote \n\n*   And this is the third line\n\n1. First item\n2. Second item\n3. Third item\n4. Fourth item"
        }
    ],
    "metadata": {
        "kernelspec": {
            "display_name": "Python 3.7",
            "language": "python",
            "name": "python3"
        },
        "language_info": {
            "codemirror_mode": {
                "name": "ipython",
                "version": 3
            },
            "file_extension": ".py",
            "mimetype": "text/x-python",
            "name": "python",
            "nbconvert_exporter": "python",
            "pygments_lexer": "ipython3",
            "version": "3.7.10"
        }
    },
    "nbformat": 4,
    "nbformat_minor": 1
}